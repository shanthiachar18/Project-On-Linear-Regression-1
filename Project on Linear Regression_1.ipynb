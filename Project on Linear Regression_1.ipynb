{
 "cells": [
  {
   "cell_type": "code",
   "execution_count": 1,
   "id": "31c66f98",
   "metadata": {},
   "outputs": [],
   "source": [
    "# importing the libraries\n",
    "import pandas as pd\n",
    "import numpy as np\n",
    "import seaborn as sns\n",
    "import matplotlib.pyplot as plt\n",
    "import plotly.express as px"
   ]
  },
  {
   "cell_type": "code",
   "execution_count": 3,
   "id": "18dd1119",
   "metadata": {},
   "outputs": [
    {
     "data": {
      "text/html": [
       "<div>\n",
       "<style scoped>\n",
       "    .dataframe tbody tr th:only-of-type {\n",
       "        vertical-align: middle;\n",
       "    }\n",
       "\n",
       "    .dataframe tbody tr th {\n",
       "        vertical-align: top;\n",
       "    }\n",
       "\n",
       "    .dataframe thead th {\n",
       "        text-align: right;\n",
       "    }\n",
       "</style>\n",
       "<table border=\"1\" class=\"dataframe\">\n",
       "  <thead>\n",
       "    <tr style=\"text-align: right;\">\n",
       "      <th></th>\n",
       "      <th>Delivery Time</th>\n",
       "      <th>Sorting Time</th>\n",
       "    </tr>\n",
       "  </thead>\n",
       "  <tbody>\n",
       "    <tr>\n",
       "      <th>0</th>\n",
       "      <td>21.00</td>\n",
       "      <td>10</td>\n",
       "    </tr>\n",
       "    <tr>\n",
       "      <th>1</th>\n",
       "      <td>13.50</td>\n",
       "      <td>4</td>\n",
       "    </tr>\n",
       "    <tr>\n",
       "      <th>2</th>\n",
       "      <td>19.75</td>\n",
       "      <td>6</td>\n",
       "    </tr>\n",
       "  </tbody>\n",
       "</table>\n",
       "</div>"
      ],
      "text/plain": [
       "   Delivery Time  Sorting Time\n",
       "0          21.00            10\n",
       "1          13.50             4\n",
       "2          19.75             6"
      ]
     },
     "execution_count": 3,
     "metadata": {},
     "output_type": "execute_result"
    }
   ],
   "source": [
    "# loading the data-set\n",
    "data = pd.read_csv(\"delivery_time.csv\")\n",
    "data.head(3)"
   ]
  },
  {
   "cell_type": "code",
   "execution_count": 4,
   "id": "f14ec327",
   "metadata": {},
   "outputs": [],
   "source": [
    "## copy the data\n",
    "data_copy = data.copy()"
   ]
  },
  {
   "cell_type": "markdown",
   "id": "d3c3e26f",
   "metadata": {},
   "source": [
    "### Understanding the data"
   ]
  },
  {
   "cell_type": "code",
   "execution_count": 6,
   "id": "27764c01",
   "metadata": {},
   "outputs": [
    {
     "name": "stdout",
     "output_type": "stream",
     "text": [
      "total rows in data is :  21\n",
      "total columns in data is :  2\n"
     ]
    }
   ],
   "source": [
    "## shape of the data\n",
    "print(\"total rows in data is : \",data.shape[0])\n",
    "print(\"total columns in data is : \",data.shape[1])"
   ]
  },
  {
   "cell_type": "code",
   "execution_count": 7,
   "id": "3251cc3d",
   "metadata": {},
   "outputs": [
    {
     "name": "stdout",
     "output_type": "stream",
     "text": [
      "<class 'pandas.core.frame.DataFrame'>\n",
      "RangeIndex: 21 entries, 0 to 20\n",
      "Data columns (total 2 columns):\n",
      " #   Column         Non-Null Count  Dtype  \n",
      "---  ------         --------------  -----  \n",
      " 0   Delivery Time  21 non-null     float64\n",
      " 1   Sorting Time   21 non-null     int64  \n",
      "dtypes: float64(1), int64(1)\n",
      "memory usage: 464.0 bytes\n"
     ]
    }
   ],
   "source": [
    "data.info()"
   ]
  },
  {
   "cell_type": "markdown",
   "id": "e8d27263",
   "metadata": {},
   "source": [
    "* There are 21 rows and 2 columns.delivery time is float data type and sorting time is integer data type."
   ]
  },
  {
   "cell_type": "code",
   "execution_count": 8,
   "id": "368d39e2",
   "metadata": {},
   "outputs": [
    {
     "data": {
      "text/plain": [
       "Delivery Time    0\n",
       "Sorting Time     0\n",
       "dtype: int64"
      ]
     },
     "execution_count": 8,
     "metadata": {},
     "output_type": "execute_result"
    }
   ],
   "source": [
    "data.isnull().sum()"
   ]
  },
  {
   "cell_type": "code",
   "execution_count": 9,
   "id": "3bd1956a",
   "metadata": {},
   "outputs": [
    {
     "data": {
      "text/plain": [
       "Delivery Time    False\n",
       "Sorting Time     False\n",
       "dtype: bool"
      ]
     },
     "execution_count": 9,
     "metadata": {},
     "output_type": "execute_result"
    }
   ],
   "source": [
    "data.isnull().any()"
   ]
  },
  {
   "cell_type": "markdown",
   "id": "3aed7b7e",
   "metadata": {},
   "source": [
    "* There is no null value in dataset"
   ]
  },
  {
   "cell_type": "code",
   "execution_count": 10,
   "id": "c13fcf4b",
   "metadata": {},
   "outputs": [
    {
     "data": {
      "text/plain": [
       "RangeIndex(start=0, stop=21, step=1)"
      ]
     },
     "execution_count": 10,
     "metadata": {},
     "output_type": "execute_result"
    }
   ],
   "source": [
    "data.index"
   ]
  },
  {
   "cell_type": "code",
   "execution_count": 11,
   "id": "6a50c4cd",
   "metadata": {},
   "outputs": [
    {
     "data": {
      "text/plain": [
       "Index(['Delivery Time', 'Sorting Time'], dtype='object')"
      ]
     },
     "execution_count": 11,
     "metadata": {},
     "output_type": "execute_result"
    }
   ],
   "source": [
    "## columns in dataset\n",
    "data.columns"
   ]
  },
  {
   "cell_type": "code",
   "execution_count": 12,
   "id": "731c0e04",
   "metadata": {},
   "outputs": [
    {
     "data": {
      "text/html": [
       "<div>\n",
       "<style scoped>\n",
       "    .dataframe tbody tr th:only-of-type {\n",
       "        vertical-align: middle;\n",
       "    }\n",
       "\n",
       "    .dataframe tbody tr th {\n",
       "        vertical-align: top;\n",
       "    }\n",
       "\n",
       "    .dataframe thead th {\n",
       "        text-align: right;\n",
       "    }\n",
       "</style>\n",
       "<table border=\"1\" class=\"dataframe\">\n",
       "  <thead>\n",
       "    <tr style=\"text-align: right;\">\n",
       "      <th></th>\n",
       "      <th>Delivery Time</th>\n",
       "      <th>Sorting Time</th>\n",
       "    </tr>\n",
       "  </thead>\n",
       "  <tbody>\n",
       "    <tr>\n",
       "      <th>count</th>\n",
       "      <td>21.000000</td>\n",
       "      <td>21.000000</td>\n",
       "    </tr>\n",
       "    <tr>\n",
       "      <th>mean</th>\n",
       "      <td>16.790952</td>\n",
       "      <td>6.190476</td>\n",
       "    </tr>\n",
       "    <tr>\n",
       "      <th>std</th>\n",
       "      <td>5.074901</td>\n",
       "      <td>2.542028</td>\n",
       "    </tr>\n",
       "    <tr>\n",
       "      <th>min</th>\n",
       "      <td>8.000000</td>\n",
       "      <td>2.000000</td>\n",
       "    </tr>\n",
       "    <tr>\n",
       "      <th>25%</th>\n",
       "      <td>13.500000</td>\n",
       "      <td>4.000000</td>\n",
       "    </tr>\n",
       "    <tr>\n",
       "      <th>50%</th>\n",
       "      <td>17.830000</td>\n",
       "      <td>6.000000</td>\n",
       "    </tr>\n",
       "    <tr>\n",
       "      <th>75%</th>\n",
       "      <td>19.750000</td>\n",
       "      <td>8.000000</td>\n",
       "    </tr>\n",
       "    <tr>\n",
       "      <th>max</th>\n",
       "      <td>29.000000</td>\n",
       "      <td>10.000000</td>\n",
       "    </tr>\n",
       "  </tbody>\n",
       "</table>\n",
       "</div>"
      ],
      "text/plain": [
       "       Delivery Time  Sorting Time\n",
       "count      21.000000     21.000000\n",
       "mean       16.790952      6.190476\n",
       "std         5.074901      2.542028\n",
       "min         8.000000      2.000000\n",
       "25%        13.500000      4.000000\n",
       "50%        17.830000      6.000000\n",
       "75%        19.750000      8.000000\n",
       "max        29.000000     10.000000"
      ]
     },
     "execution_count": 12,
     "metadata": {},
     "output_type": "execute_result"
    }
   ],
   "source": [
    "## statistical details of dataset\n",
    "data.describe()"
   ]
  },
  {
   "cell_type": "markdown",
   "id": "51b04808",
   "metadata": {},
   "source": [
    "* No more gap in min and max data. so variation is less. STD is also low"
   ]
  },
  {
   "cell_type": "code",
   "execution_count": 13,
   "id": "7f7eca32",
   "metadata": {},
   "outputs": [
    {
     "data": {
      "text/plain": [
       "Delivery Time    21\n",
       "Sorting Time      9\n",
       "dtype: int64"
      ]
     },
     "execution_count": 13,
     "metadata": {},
     "output_type": "execute_result"
    }
   ],
   "source": [
    "## number of unique values in columns\n",
    "data.nunique()"
   ]
  },
  {
   "cell_type": "markdown",
   "id": "5b8edce7",
   "metadata": {},
   "source": [
    "### Checking of outliers in dataset"
   ]
  },
  {
   "cell_type": "code",
   "execution_count": 14,
   "id": "eb7478b5",
   "metadata": {},
   "outputs": [
    {
     "data": {
      "image/png": "[encoded data removed]",
      "text/plain": [
       "<Figure size 432x288 with 1 Axes>"
      ]
     },
     "metadata": {
      "needs_background": "light"
     },
     "output_type": "display_data"
    }
   ],
   "source": [
    "sns.boxplot(x=data['Delivery Time'])\n",
    "plt.title(\"Box plot of Delivery Time\")\n",
    "plt.show()"
   ]
  },
  {
   "cell_type": "code",
   "execution_count": 15,
   "id": "2d939967",
   "metadata": {},
   "outputs": [
    {
     "data": {
      "image/png": "[encoded data removed]",
      "text/plain": [
       "<Figure size 432x288 with 1 Axes>"
      ]
     },
     "metadata": {
      "needs_background": "light"
     },
     "output_type": "display_data"
    }
   ],
   "source": [
    "sns.boxplot(x=data['Sorting Time'])\n",
    "plt.title(\"Box plot of Delivery Time\")\n",
    "plt.show()"
   ]
  },
  {
   "cell_type": "markdown",
   "id": "1c06591e",
   "metadata": {},
   "source": [
    "* No outliers in the dataset"
   ]
  },
  {
   "cell_type": "code",
   "execution_count": 16,
   "id": "b1a97b8e",
   "metadata": {},
   "outputs": [
    {
     "data": {
      "text/html": [
       "<div>\n",
       "<style scoped>\n",
       "    .dataframe tbody tr th:only-of-type {\n",
       "        vertical-align: middle;\n",
       "    }\n",
       "\n",
       "    .dataframe tbody tr th {\n",
       "        vertical-align: top;\n",
       "    }\n",
       "\n",
       "    .dataframe thead th {\n",
       "        text-align: right;\n",
       "    }\n",
       "</style>\n",
       "<table border=\"1\" class=\"dataframe\">\n",
       "  <thead>\n",
       "    <tr style=\"text-align: right;\">\n",
       "      <th></th>\n",
       "      <th>Delivery Time</th>\n",
       "      <th>Sorting Time</th>\n",
       "    </tr>\n",
       "  </thead>\n",
       "  <tbody>\n",
       "    <tr>\n",
       "      <th>Delivery Time</th>\n",
       "      <td>1.000000</td>\n",
       "      <td>0.825997</td>\n",
       "    </tr>\n",
       "    <tr>\n",
       "      <th>Sorting Time</th>\n",
       "      <td>0.825997</td>\n",
       "      <td>1.000000</td>\n",
       "    </tr>\n",
       "  </tbody>\n",
       "</table>\n",
       "</div>"
      ],
      "text/plain": [
       "               Delivery Time  Sorting Time\n",
       "Delivery Time       1.000000      0.825997\n",
       "Sorting Time        0.825997      1.000000"
      ]
     },
     "execution_count": 16,
     "metadata": {},
     "output_type": "execute_result"
    }
   ],
   "source": [
    "## correlation in dataset\n",
    "corr = data.corr()\n",
    "corr\n"
   ]
  },
  {
   "cell_type": "code",
   "execution_count": 20,
   "id": "7235f453",
   "metadata": {},
   "outputs": [
    {
     "data": {
      "image/png": "[encoded data removed]",
      "text/plain": [
       "<Figure size 432x288 with 2 Axes>"
      ]
     },
     "metadata": {
      "needs_background": "light"
     },
     "output_type": "display_data"
    }
   ],
   "source": [
    "sns.heatmap(corr,annot=True,cmap='RdBu')\n",
    "plt.show()"
   ]
  },
  {
   "cell_type": "markdown",
   "id": "f104782f",
   "metadata": {},
   "source": [
    "* Correlation co-eeficient is more, so they have strong correlation(positive correlation)."
   ]
  },
  {
   "cell_type": "markdown",
   "id": "63b1e65e",
   "metadata": {},
   "source": [
    "## EDA(Exploratary data analysis)"
   ]
  },
  {
   "cell_type": "code",
   "execution_count": 23,
   "id": "37b6ed24",
   "metadata": {},
   "outputs": [
    {
     "name": "stdout",
     "output_type": "stream",
     "text": [
      "Average delivery time is -  17.0\n"
     ]
    }
   ],
   "source": [
    "## Average of delivery time\n",
    "print(\"Average delivery time is - \",round(data['Delivery Time'].mean(),0))"
   ]
  },
  {
   "cell_type": "code",
   "execution_count": 24,
   "id": "4b858877",
   "metadata": {},
   "outputs": [
    {
     "name": "stdout",
     "output_type": "stream",
     "text": [
      "Minimum delivery time is -  8.0\n"
     ]
    }
   ],
   "source": [
    "## Minimum of delivery time\n",
    "print(\"Minimum delivery time is - \",round(data['Delivery Time'].min(),0))"
   ]
  },
  {
   "cell_type": "code",
   "execution_count": 25,
   "id": "348a4c0a",
   "metadata": {},
   "outputs": [
    {
     "name": "stdout",
     "output_type": "stream",
     "text": [
      "Maximum delivery time is -  29.0\n"
     ]
    }
   ],
   "source": [
    "## Maximum of delivery time\n",
    "print(\"Maximum delivery time is - \",round(data['Delivery Time'].max(),0))"
   ]
  },
  {
   "cell_type": "code",
   "execution_count": 27,
   "id": "bb8db564",
   "metadata": {},
   "outputs": [
    {
     "name": "stdout",
     "output_type": "stream",
     "text": [
      "Average sorting time is -  6.0\n"
     ]
    }
   ],
   "source": [
    "## Average of sorting time time\n",
    "print(\"Average sorting time is - \",round(data['Sorting Time'].mean(),0))"
   ]
  },
  {
   "cell_type": "code",
   "execution_count": 28,
   "id": "f55d7ab5",
   "metadata": {},
   "outputs": [
    {
     "name": "stdout",
     "output_type": "stream",
     "text": [
      "Minimum sorting time is -  2\n"
     ]
    }
   ],
   "source": [
    "## Minimum of sorting time\n",
    "print(\"Minimum sorting time is - \",round(data['Sorting Time'].min(),0))"
   ]
  },
  {
   "cell_type": "code",
   "execution_count": 29,
   "id": "fa27abbd",
   "metadata": {},
   "outputs": [
    {
     "name": "stdout",
     "output_type": "stream",
     "text": [
      "Maximum sorting time is -  10\n"
     ]
    }
   ],
   "source": [
    "## Maximum of sorting time\n",
    "print(\"Maximum sorting time is - \",round(data['Sorting Time'].max(),0))"
   ]
  },
  {
   "cell_type": "code",
   "execution_count": 30,
   "id": "371a3015",
   "metadata": {},
   "outputs": [
    {
     "data": {
      "image/png": "[encoded data removed]",
      "text/plain": [
       "<Figure size 432x288 with 1 Axes>"
      ]
     },
     "metadata": {
      "needs_background": "light"
     },
     "output_type": "display_data"
    }
   ],
   "source": [
    "sns.scatterplot(x='Sorting Time',y='Delivery Time',data=data,marker='o',size='Sorting Time',legend=None)\n",
    "plt.show()"
   ]
  },
  {
   "cell_type": "markdown",
   "id": "0a6a6bcc",
   "metadata": {},
   "source": [
    "* Sorting time is highly correlated with the delivery time. Delivery time and sorting time is directly propotional.\n",
    "* If delivery time increases then sorting time also increases."
   ]
  },
  {
   "cell_type": "code",
   "execution_count": 31,
   "id": "6bde53c3",
   "metadata": {},
   "outputs": [
    {
     "data": {
      "image/png": "[encoded data removed]",
      "text/plain": [
       "<Figure size 432x288 with 1 Axes>"
      ]
     },
     "metadata": {
      "needs_background": "light"
     },
     "output_type": "display_data"
    }
   ],
   "source": [
    "sns.countplot(x='Sorting Time',data=data,palette='deep')\n",
    "plt.show()"
   ]
  },
  {
   "cell_type": "markdown",
   "id": "6da7b72a",
   "metadata": {},
   "source": [
    "* Sorting time 7 is occure maximum times ,so maximum number of sorting is at 7"
   ]
  },
  {
   "cell_type": "markdown",
   "id": "535b22f7",
   "metadata": {},
   "source": [
    "## Feature Engineering and Machine Learning model"
   ]
  },
  {
   "cell_type": "markdown",
   "id": "0a37c61e",
   "metadata": {},
   "source": [
    "* Dataset is having one input to predcit output & linear plot is straight, so we will build simple linear regression  model."
   ]
  },
  {
   "cell_type": "code",
   "execution_count": 32,
   "id": "d030a999",
   "metadata": {},
   "outputs": [],
   "source": [
    "## importing scikit library\n",
    "from sklearn.model_selection import train_test_split\n",
    "from sklearn.linear_model import LinearRegression\n",
    "from sklearn.metrics import r2_score,mean_absolute_error,mean_squared_error"
   ]
  },
  {
   "cell_type": "code",
   "execution_count": 33,
   "id": "4a4478c5",
   "metadata": {},
   "outputs": [],
   "source": [
    "## set input and output of dataset\n",
    "## x - independent varibale i.e delivery time\n",
    "## y - dependent variable i.e sorting time\n",
    "\n",
    "y=data['Delivery Time']\n",
    "x=data['Sorting Time']"
   ]
  },
  {
   "cell_type": "code",
   "execution_count": 35,
   "id": "937256c1",
   "metadata": {},
   "outputs": [
    {
     "data": {
      "text/plain": [
       "0    21.0\n",
       "1    13.5\n",
       "Name: Delivery Time, dtype: float64"
      ]
     },
     "execution_count": 35,
     "metadata": {},
     "output_type": "execute_result"
    }
   ],
   "source": [
    "y.head(2)"
   ]
  },
  {
   "cell_type": "code",
   "execution_count": 36,
   "id": "ed442584",
   "metadata": {},
   "outputs": [
    {
     "data": {
      "text/plain": [
       "0    10\n",
       "1     4\n",
       "Name: Sorting Time, dtype: int64"
      ]
     },
     "execution_count": 36,
     "metadata": {},
     "output_type": "execute_result"
    }
   ],
   "source": [
    "x.head(2)"
   ]
  },
  {
   "cell_type": "code",
   "execution_count": 38,
   "id": "1392e938",
   "metadata": {},
   "outputs": [],
   "source": [
    "x_train,x_test,y_train,y_test=train_test_split(x,y,train_size=0.8,random_state=1234)"
   ]
  },
  {
   "cell_type": "code",
   "execution_count": 41,
   "id": "befa9295",
   "metadata": {},
   "outputs": [
    {
     "data": {
      "text/plain": [
       "((16,), (16,))"
      ]
     },
     "execution_count": 41,
     "metadata": {},
     "output_type": "execute_result"
    }
   ],
   "source": [
    "x_train.shape, y_train.shape"
   ]
  },
  {
   "cell_type": "code",
   "execution_count": 43,
   "id": "becba4a2",
   "metadata": {},
   "outputs": [
    {
     "data": {
      "text/plain": [
       "((5,), (5,))"
      ]
     },
     "execution_count": 43,
     "metadata": {},
     "output_type": "execute_result"
    }
   ],
   "source": [
    "x_test.shape,y_test.shape"
   ]
  },
  {
   "cell_type": "code",
   "execution_count": 44,
   "id": "27619c87",
   "metadata": {},
   "outputs": [],
   "source": [
    "x_train=x_train.values.reshape(-1,1)\n",
    "y_train=y_train.values.reshape(-1,1)\n",
    "x_test=x_test.values.reshape(-1,1)"
   ]
  },
  {
   "cell_type": "code",
   "execution_count": 45,
   "id": "dcf2b204",
   "metadata": {},
   "outputs": [],
   "source": [
    "model = LinearRegression()"
   ]
  },
  {
   "cell_type": "code",
   "execution_count": 46,
   "id": "d2aea23e",
   "metadata": {},
   "outputs": [],
   "source": [
    "model_fit = model.fit(x_train,y_train)"
   ]
  },
  {
   "cell_type": "code",
   "execution_count": 47,
   "id": "6792b8ff",
   "metadata": {},
   "outputs": [
    {
     "name": "stdout",
     "output_type": "stream",
     "text": [
      "[6.66384615]\n"
     ]
    }
   ],
   "source": [
    "## intercept of model\n",
    "print(model_fit.intercept_)"
   ]
  },
  {
   "cell_type": "code",
   "execution_count": 48,
   "id": "04d3f8bb",
   "metadata": {},
   "outputs": [
    {
     "name": "stdout",
     "output_type": "stream",
     "text": [
      "[[1.60153846]]\n"
     ]
    }
   ],
   "source": [
    "## coefficient of model\n",
    "print(model_fit.coef_)"
   ]
  },
  {
   "cell_type": "code",
   "execution_count": 51,
   "id": "7c1fa6e0",
   "metadata": {},
   "outputs": [
    {
     "data": {
      "text/plain": [
       "array([[21.07769231],\n",
       "       [11.46846154],\n",
       "       [16.27307692],\n",
       "       [16.27307692],\n",
       "       [11.46846154]])"
      ]
     },
     "execution_count": 51,
     "metadata": {},
     "output_type": "execute_result"
    }
   ],
   "source": [
    "y_pred=model_fit.predict(x_test)\n",
    "y_pred"
   ]
  },
  {
   "cell_type": "code",
   "execution_count": 52,
   "id": "1b2ee8a6",
   "metadata": {},
   "outputs": [
    {
     "data": {
      "text/html": [
       "<div>\n",
       "<style scoped>\n",
       "    .dataframe tbody tr th:only-of-type {\n",
       "        vertical-align: middle;\n",
       "    }\n",
       "\n",
       "    .dataframe tbody tr th {\n",
       "        vertical-align: top;\n",
       "    }\n",
       "\n",
       "    .dataframe thead th {\n",
       "        text-align: right;\n",
       "    }\n",
       "</style>\n",
       "<table border=\"1\" class=\"dataframe\">\n",
       "  <thead>\n",
       "    <tr style=\"text-align: right;\">\n",
       "      <th></th>\n",
       "      <th>pred</th>\n",
       "    </tr>\n",
       "  </thead>\n",
       "  <tbody>\n",
       "    <tr>\n",
       "      <th>0</th>\n",
       "      <td>21.077692</td>\n",
       "    </tr>\n",
       "    <tr>\n",
       "      <th>1</th>\n",
       "      <td>11.468462</td>\n",
       "    </tr>\n",
       "    <tr>\n",
       "      <th>2</th>\n",
       "      <td>16.273077</td>\n",
       "    </tr>\n",
       "    <tr>\n",
       "      <th>3</th>\n",
       "      <td>16.273077</td>\n",
       "    </tr>\n",
       "    <tr>\n",
       "      <th>4</th>\n",
       "      <td>11.468462</td>\n",
       "    </tr>\n",
       "  </tbody>\n",
       "</table>\n",
       "</div>"
      ],
      "text/plain": [
       "        pred\n",
       "0  21.077692\n",
       "1  11.468462\n",
       "2  16.273077\n",
       "3  16.273077\n",
       "4  11.468462"
      ]
     },
     "execution_count": 52,
     "metadata": {},
     "output_type": "execute_result"
    }
   ],
   "source": [
    "data_y_pred = pd.DataFrame(y_pred,columns=[\"pred\"])\n",
    "data_y_pred"
   ]
  },
  {
   "cell_type": "code",
   "execution_count": 53,
   "id": "a28ead44",
   "metadata": {},
   "outputs": [],
   "source": [
    "data_y_pred['actual']=y_test.values"
   ]
  },
  {
   "cell_type": "code",
   "execution_count": 54,
   "id": "0bb766dc",
   "metadata": {},
   "outputs": [
    {
     "name": "stdout",
     "output_type": "stream",
     "text": [
      "        pred  actual\n",
      "0  21.077692   24.00\n",
      "1  11.468462   11.50\n",
      "2  16.273077   19.75\n",
      "3  16.273077   13.75\n",
      "4  11.468462   12.03\n"
     ]
    }
   ],
   "source": [
    "print(data_y_pred)"
   ]
  },
  {
   "cell_type": "code",
   "execution_count": 55,
   "id": "30ccd416",
   "metadata": {},
   "outputs": [
    {
     "data": {
      "text/plain": [
       "0.5774636053428878"
      ]
     },
     "execution_count": 55,
     "metadata": {},
     "output_type": "execute_result"
    }
   ],
   "source": [
    "r2_score(data_y_pred['pred'],data_y_pred['actual'])"
   ]
  },
  {
   "cell_type": "markdown",
   "id": "45ca48d3",
   "metadata": {},
   "source": [
    "* r_square value is 0.57, so built model is towards 1 so it is good model."
   ]
  },
  {
   "cell_type": "code",
   "execution_count": 56,
   "id": "a1691eb9",
   "metadata": {},
   "outputs": [
    {
     "data": {
      "text/plain": [
       "1.9030769230769227"
      ]
     },
     "execution_count": 56,
     "metadata": {},
     "output_type": "execute_result"
    }
   ],
   "source": [
    "mean_absolute_error(data_y_pred['pred'],data_y_pred['actual'])"
   ]
  },
  {
   "cell_type": "code",
   "execution_count": 57,
   "id": "7a16571b",
   "metadata": {},
   "outputs": [
    {
     "data": {
      "text/plain": [
       "5.462222721893498"
      ]
     },
     "execution_count": 57,
     "metadata": {},
     "output_type": "execute_result"
    }
   ],
   "source": [
    "mean_squared_error(data_y_pred['pred'],data_y_pred['actual'])"
   ]
  },
  {
   "cell_type": "code",
   "execution_count": 58,
   "id": "f2da2f6f",
   "metadata": {},
   "outputs": [],
   "source": [
    "from math import sqrt"
   ]
  },
  {
   "cell_type": "code",
   "execution_count": 60,
   "id": "684a10e0",
   "metadata": {},
   "outputs": [
    {
     "data": {
      "text/plain": [
       "2.3371398592924426"
      ]
     },
     "execution_count": 60,
     "metadata": {},
     "output_type": "execute_result"
    }
   ],
   "source": [
    "sqrt(mean_squared_error(data_y_pred['pred'],data_y_pred['actual']))"
   ]
  },
  {
   "cell_type": "markdown",
   "id": "bb0f515f",
   "metadata": {},
   "source": [
    "* Model coefficient of determination is 0.57, so model is good fit."
   ]
  },
  {
   "cell_type": "code",
   "execution_count": null,
   "id": "1c9d359b",
   "metadata": {},
   "outputs": [],
   "source": []
  }
 ],
 "metadata": {
  "kernelspec": {
   "display_name": "Python 3",
   "language": "python",
   "name": "python3"
  },
  "language_info": {
   "codemirror_mode": {
    "name": "ipython",
    "version": 3
   },
   "file_extension": ".py",
   "mimetype": "text/x-python",
   "name": "python",
   "nbconvert_exporter": "python",
   "pygments_lexer": "ipython3",
   "version": "3.8.8"
  }
 },
 "nbformat": 4,
 "nbformat_minor": 5
}
